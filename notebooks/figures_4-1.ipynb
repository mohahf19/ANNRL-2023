{
 "cells": [
  {
   "cell_type": "code",
   "execution_count": 1,
   "metadata": {
    "collapsed": true
   },
   "outputs": [],
   "source": [
    "# Add the parent directory to path\n",
    "import sys\n",
    "\n",
    "sys.path.append(\"..\")"
   ]
  },
  {
   "cell_type": "code",
   "execution_count": 2,
   "metadata": {},
   "outputs": [],
   "source": [
    "import matplotlib.pyplot as plt\n",
    "from gym import spaces\n",
    "\n",
    "\"\"\"Environment imports\"\"\"\n",
    "from epidemic_env.env import Env, Log\n",
    "from epidemic_env.dynamics import ModelDynamics, Observation\n",
    "from epidemic_env.visualize import Visualize\n",
    "from epidemic_env.agent import Agent\n",
    "\n",
    "\"\"\"Pytorch and numpy imports\"\"\"\n",
    "import numpy as np\n",
    "import torch\n",
    "from torch import nn\n",
    "\n",
    "\"\"\"Policy imports\"\"\"\n",
    "from typing import Callable\n",
    "from utils.utils import simulate_policy\n",
    "\n",
    "%matplotlib inline"
   ]
  },
  {
   "cell_type": "code",
   "execution_count": 3,
   "metadata": {},
   "outputs": [],
   "source": [
    "import seaborn as sns\n",
    "import matplotlib.pyplot as plt\n",
    "from pathlib import Path\n",
    "import pandas as pd\n",
    "import numpy as np\n",
    "\n",
    "import json"
   ]
  },
  {
   "cell_type": "code",
   "execution_count": 4,
   "metadata": {
    "collapsed": false
   },
   "outputs": [],
   "source": [
    "q4a_folder = Path(\"../results/q4a\")\n",
    "\n",
    "visualization_folder = Path(\"../results/visualization\")\n",
    "visualization_folder.mkdir(exist_ok=True, parents=True)"
   ]
  },
  {
   "cell_type": "code",
   "execution_count": 5,
   "metadata": {},
   "outputs": [],
   "source": [
    "class DQNModel(nn.Module):\n",
    "    def __init__(self, obs_dim: int, actions_dim: int, activation: str = \"relu\"):\n",
    "        super().__init__()\n",
    "        if activation == \"relu\":\n",
    "            self.activation = nn.ReLU\n",
    "        elif activation == \"tanh\":\n",
    "            self.activation = nn.Tanh\n",
    "        else:\n",
    "            raise ValueError(\"Activation must be either relu or tanh\")\n",
    "\n",
    "        self.net = nn.Sequential(\n",
    "            # nn.LayerNorm(obs_dim),\n",
    "            nn.Linear(obs_dim, 64),\n",
    "            self.activation(),\n",
    "            nn.Linear(64, 32),\n",
    "            self.activation(),\n",
    "            nn.Linear(32, 16),\n",
    "            self.activation(),\n",
    "            nn.Linear(16, actions_dim),\n",
    "        )\n",
    "\n",
    "    def forward(self, x: torch.Tensor) -> torch.Tensor:\n",
    "        return self.net(x)"
   ]
  },
  {
   "cell_type": "code",
   "execution_count": 6,
   "metadata": {},
   "outputs": [],
   "source": [
    "def get_models(num_obs: int, num_output: int, run_folder: Path) -> dict[int, torch.nn.Module]:\n",
    "    files = run_folder.glob(\"*.pt\")\n",
    "    run_ids_paths = [(int(str(x).split(\"_\")[2]), x) for x in files]\n",
    "\n",
    "    models = {}\n",
    "            \n",
    "    for run_id, weights_path in run_ids_paths:\n",
    "        model = DQNModel(num_obs, num_output)\n",
    "        model.load_state_dict(torch.load(weights_path, map_location=torch.device('cpu')))\n",
    "        model.eval()\n",
    "        models[run_id] = model\n",
    "    \n",
    "    return models"
   ]
  },
  {
   "attachments": {},
   "cell_type": "markdown",
   "metadata": {},
   "source": [
    "## Q4a Plots"
   ]
  },
  {
   "cell_type": "code",
   "execution_count": 16,
   "metadata": {},
   "outputs": [
    {
     "name": "stdout",
     "output_type": "stream",
     "text": [
      "[]\n",
      "['confinement']\n",
      "['hospital']\n",
      "['confinement']\n",
      "['hospital']\n"
     ]
    }
   ],
   "source": [
    "num_features_per_city = 2\n",
    "num_actions = 5\n",
    "num_observation_features = 7 * num_features_per_city * 9  + 4\n",
    "def observation_to_tensor(\n",
    "    obs: Observation,\n",
    "    dyn: ModelDynamics,\n",
    "    curr_action: dict,\n",
    "    features_per_city: int = 7 * num_features_per_city,\n",
    ") -> torch.Tensor:\n",
    "    \"\"\"Convers the observation object to a torch Tensor\n",
    "    The tensor is defined as: for each city, population (1), infected (7), dead (7)\n",
    "    \"\"\"\n",
    "    num_cities = len(dyn.cities)\n",
    "    output = torch.zeros(num_cities * features_per_city + 4)\n",
    "    for i, city in enumerate(dyn.cities):\n",
    "        output[i * features_per_city : i * features_per_city + 7] = (\n",
    "            torch.tensor(obs.city[city].infected) / obs.pop[city]\n",
    "        ) ** (1 / 4)\n",
    "        output[i * features_per_city + 7 : i * features_per_city + 14] = (\n",
    "            torch.tensor(obs.city[city].dead) / obs.pop[city]\n",
    "        ) ** (1 / 4)\n",
    "        \n",
    "    \n",
    "    output[-4] = int(curr_action[\"confinement\"])\n",
    "    output[-3] = int(curr_action[\"isolation\"])\n",
    "    output[-2] = int(curr_action[\"hospital\"])\n",
    "    output[-1] = int(curr_action[\"vaccinate\"])\n",
    "    \n",
    "    return output\n",
    "\n",
    "\n",
    "\"\"\"Loading the environment\"\"\"\n",
    "dyn = ModelDynamics(\"../config/switzerland.yaml\") \n",
    "\n",
    "env = Env(\n",
    "    dyn,  # We pass the dynamical model to the environment\n",
    "    action_space=spaces.Discrete(\n",
    "        num_actions\n",
    "    ),  # Here one could pass an openai gym action space that can then be sampled\n",
    "    observation_space=spaces.Box(\n",
    "        low=0, high=np.inf, shape=(num_observation_features,), dtype=float\n",
    "    ),  # Here one could pass an openai gym obs space that can then be sampled\n",
    ")\n",
    "\n",
    "def action_value_to_actions(action_value: int, curr_action: dict) -> list[int]:\n",
    "    if action_value == 0:\n",
    "        return []\n",
    "    str_action = action_value_dict[action_value - 1]\n",
    "\n",
    "    return [str_action]\n",
    "\n",
    "\n",
    "\n",
    "action_value_dict = {0: \"confinement\", 1: \"isolation\", 2: \"hospital\", 3: \"vaccinate\"}\n",
    "\n",
    "from copy import deepcopy\n",
    "\n",
    "def create_action(\n",
    "    action: int,\n",
    "    curr_action: dict,\n",
    "    action_value_to_actions: Callable = action_value_to_actions,\n",
    "    action_value_dict: dict = action_value_dict,\n",
    ") -> dict[str, bool]:\n",
    "    \"\"\"Creates a policy from the encoded action value\"\"\"\n",
    "    created_actions = action_value_to_actions(action, curr_action)\n",
    "\n",
    "    temp_act = deepcopy(curr_action)\n",
    "\n",
    "    # print(f\"returned action = {created_actions}\")\n",
    "\n",
    "    for act in created_actions:\n",
    "        # print(act)\n",
    "        temp_act[act] = not curr_action[act]\n",
    "\n",
    "    # print(temp_act)\n",
    "    return temp_act\n",
    "\n",
    "def select_action(output: torch.Tensor, epsilon: float) -> int:\n",
    "    \"\"\"Selects an action based on the output of the DQN.\"\"\"\n",
    "    if np.random.rand() < epsilon:\n",
    "        return np.random.randint(0, len(output))\n",
    "    else:\n",
    "        # print(f' \\n inside select action output = {output} \\n')\n",
    "        # print(f' \\n inside select action argmax = {output.to(\"cpu\").argmax().item()}')\n",
    "        return output.to(\"cpu\").argmax().item()\n",
    "\n",
    "\n",
    "\n",
    "tst_actions = {\n",
    "    \"confinement\": False,\n",
    "    \"isolation\": False,\n",
    "    \"hospital\": False,\n",
    "    \"vaccinate\": False,\n",
    "}\n",
    "\n",
    "print(action_value_to_actions(0, tst_actions))\n",
    "\n",
    "print(action_value_to_actions(1, tst_actions))\n",
    "\n",
    "print(action_value_to_actions(3, tst_actions))\n",
    "\n",
    "tst_actions[\"confinement\"] = True\n",
    "\n",
    "print(action_value_to_actions(1, tst_actions))\n",
    "\n",
    "tst_actions[\"hospital\"] = True\n",
    "\n",
    "print(action_value_to_actions(3, tst_actions))\n"
   ]
  },
  {
   "cell_type": "code",
   "execution_count": 17,
   "metadata": {},
   "outputs": [],
   "source": [
    "q4a_models = get_models(num_observation_features, num_actions, q4a_folder)\n",
    "q4a_model = q4a_models[1]\n"
   ]
  },
  {
   "cell_type": "code",
   "execution_count": 36,
   "metadata": {},
   "outputs": [],
   "source": [
    "def exec_model_policy(env: Env, dyn: ModelDynamics, policy_net: torch.nn.Module, device: str, n_weeks=30, simulation_seed=0, ):\n",
    "    log = []\n",
    "    curr_rewards = []\n",
    "    taken_actions = []\n",
    "\n",
    "    curr_action = {\n",
    "        \"confinement\": False,\n",
    "        \"isolation\": False,\n",
    "        \"hospital\": False,\n",
    "        \"vaccinate\": False,\n",
    "    }\n",
    "\n",
    "    obs, info = env.reset(simulation_seed)\n",
    "    obs_tensor = observation_to_tensor(obs, dyn, curr_action).to(device)\n",
    "    \n",
    "    done = False\n",
    "    while not done:\n",
    "        policy_output = policy_net(obs_tensor)\n",
    "        action = select_action(policy_output, 0)\n",
    "        curr_action = create_action(action, curr_action)\n",
    "        action_tuple = tuple([action for action, value in curr_action.items() if value])\n",
    "        taken_actions.append(action_tuple)\n",
    "        \n",
    "        obs, reward, done, info = env.step(curr_action)\n",
    "        obs_tensor = observation_to_tensor(obs, dyn, curr_action).to(device)\n",
    "        curr_rewards.append(reward.item())\n",
    "        log.append(info) \n",
    "        \n",
    "    \"\"\" Parse the logs \"\"\"\n",
    "    tot = {p: np.array([getattr(l.total, p) for l in log]) for p in dyn.parameters}\n",
    "    cit = {\n",
    "        c: {p: np.array([getattr(l.city[c], p) for l in log]) for p in dyn.parameters}\n",
    "        for c in dyn.cities\n",
    "    }\n",
    "    act = {a: np.array([l.action[a] for l in log]) for a in log[0].action.keys()}\n",
    "\n",
    "    return tot, cit, act, taken_actions, curr_rewards\n"
   ]
  },
  {
   "cell_type": "code",
   "execution_count": 91,
   "metadata": {},
   "outputs": [],
   "source": [
    "def simulate_policy(env: Env, dyn: ModelDynamics, policy_net: torch.nn.Module, device: str, policy_function, n=5, seeds=[0]):\n",
    "    # For each episode save the total days confined and total dead\n",
    "    tot_days_confined = []\n",
    "    tot_days_isolated = []\n",
    "    tot_days_vaccinated = []\n",
    "    tot_days_hospitalized = []\n",
    "    tot_dead = []\n",
    "    cum_rewards = []\n",
    "    for i in range(n):\n",
    "        tot, _, _, pol, r = policy_function(env=env, dyn=dyn, policy_net=policy_net, device=device, n_weeks=30, simulation_seed=seeds[i])\n",
    "        cum_rewards.append(torch.sum(torch.tensor(r)))\n",
    "        tot_dead.append(tot['dead'][-1])\n",
    "        weeks_confined = len([x for x in pol if \"confinement\" in x])\n",
    "        weeks_isolated = len([x for x in pol if \"isolation\" in x])\n",
    "        weeks_vaccinated = len([x for x in pol if \"vaccinate\" in x])\n",
    "        weeks_hospitalized = len([x for x in pol if \"hospital\" in x])\n",
    "        \n",
    "        tot_days_confined.append(7 * weeks_confined)\n",
    "        tot_days_isolated.append(7 * weeks_isolated)\n",
    "        tot_days_vaccinated.append(7 * weeks_vaccinated)\n",
    "        tot_days_hospitalized.append(7 * weeks_hospitalized)\n",
    "    \n",
    "    tot_days = {\"confinement\": tot_days_confined, \"isolation\": tot_days_isolated, \"vaccinate\": tot_days_vaccinated, \"hospital\": tot_days_hospitalized}\n",
    "        \n",
    "    return tot_days, tot_dead, cum_rewards"
   ]
  },
  {
   "cell_type": "code",
   "execution_count": 92,
   "metadata": {},
   "outputs": [],
   "source": [
    "tot_days, total_dead, cumulative_rewards = simulate_policy(env=env, dyn=dyn, policy_net=q4a_model, device=\"cpu\", policy_function = exec_model_policy, n=50, seeds=np.arange(50)\n",
    ")"
   ]
  },
  {
   "cell_type": "code",
   "execution_count": 94,
   "metadata": {},
   "outputs": [
    {
     "name": "stdout",
     "output_type": "stream",
     "text": [
      "dict_keys(['confinement', 'isolation', 'vaccinate', 'hospital'])\n"
     ]
    }
   ],
   "source": [
    "print(tot_days.keys())"
   ]
  },
  {
   "cell_type": "code",
   "execution_count": 95,
   "metadata": {},
   "outputs": [
    {
     "name": "stdout",
     "output_type": "stream",
     "text": [
      "Mean total days confinement: 157.5\n",
      "Std total days confinement: 9.82496819333274\n",
      "Mean total days isolation: 0.0\n",
      "Std total days isolation: 0.0\n",
      "Mean total days vaccinate: 0.0\n",
      "Std total days vaccinate: 0.0\n",
      "Mean total days hospital: 36.12\n",
      "Std total days hospital: 65.47690890688105\n",
      "Mean total dead: 2849.64\n",
      "Std total dead: 1992.707261591627\n",
      "Mean cumulative rewards: 41.82419967651367\n",
      "Std cumulative rewards: 13.582307815551758\n"
     ]
    }
   ],
   "source": [
    "# Print the mean and std\n",
    "for key, total_days_action in tot_days.items():\n",
    "    print(f\"Mean total days {key}: {np.mean(total_days_action)}\")\n",
    "    print(f\"Std total days {key}: {np.std(total_days_action)}\")\n",
    "print(f\"Mean total dead: {np.mean(total_dead)}\")\n",
    "print(f\"Std total dead: {np.std(total_dead)}\")\n",
    "print(f\"Mean cumulative rewards: {np.mean(cumulative_rewards)}\")\n",
    "print(f\"Std cumulative rewards: {np.std(cumulative_rewards)}\")\n"
   ]
  },
  {
   "cell_type": "code",
   "execution_count": 97,
   "metadata": {},
   "outputs": [
    {
     "data": {
      "image/png": "[encoded data removed]",
      "text/plain": [
       "<Figure size 1000x400 with 3 Axes>"
      ]
     },
     "metadata": {},
     "output_type": "display_data"
    }
   ],
   "source": [
    "fig, ax = plt.subplots(1, 3, figsize=(10, 4))\n",
    "\n",
    "ax[0].hist(tot_days[\"confinement\"], bins=30, label=\"total_confined\")\n",
    "ax[0].set_xlabel(\"Total days confined\")\n",
    "\n",
    "ax[1].hist(total_dead, bins=30, label=\"total_dead\")\n",
    "ax[1].set_xlabel(\"Total dead\")\n",
    "\n",
    "ax[2].hist(cumulative_rewards, bins=30, label=\"cumulative_rewards\")\n",
    "ax[2].set_xlabel(\"Cumulative rewards\")\n",
    "\n",
    "plt.savefig(visualization_folder / \"4-1_histograms.png\")"
   ]
  },
  {
   "cell_type": "code",
   "execution_count": 102,
   "metadata": {},
   "outputs": [],
   "source": [
    "seed = 101\n",
    "total, cities, actions, policy, _ = exec_model_policy(env=env, dyn=dyn, policy_net=q4a_model, device=\"cpu\", n_weeks=30, simulation_seed=seed)"
   ]
  },
  {
   "cell_type": "code",
   "execution_count": 106,
   "metadata": {},
   "outputs": [],
   "source": [
    "unique_actions = set(policy)\n",
    "num_unique_actions = len(unique_actions)\n",
    "# Assign a color to each action\n",
    "action_to_color_id = {action: i for i, action in enumerate(unique_actions)}\n",
    "action_to_color = {action: sns.color_palette()[i] for i, action in enumerate(unique_actions)}\n"
   ]
  },
  {
   "cell_type": "code",
   "execution_count": 107,
   "metadata": {},
   "outputs": [
    {
     "data": {
      "image/png": "[encoded data removed]",
      "text/plain": [
       "<Figure size 1000x400 with 1 Axes>"
      ]
     },
     "metadata": {},
     "output_type": "display_data"
    }
   ],
   "source": [
    "from matplotlib.lines import Line2D\n",
    "\n",
    "def action_tuple_to_label(action_tuple: tuple[str, ...]) -> str:\n",
    "    \"\"\"Converts an action tuple to a label\"\"\"\n",
    "    if len(action_tuple) == 0:\n",
    "        return \"No action\"\n",
    "    else:\n",
    "        out = \"\"\n",
    "        for t in action_tuple:\n",
    "            out = out + t.capitalize() + \", \"\n",
    "        return out[:-2]\n",
    "\n",
    "action_line_pair = [\n",
    "    (action, Line2D([0], [0], color=color, lw=4)) for\n",
    "    action, color in action_to_color.items()\n",
    "]\n",
    "\n",
    "actions_tuples= [x[0] for x in action_line_pair]\n",
    "\n",
    "action_legend = [action_tuple_to_label(x) for x in actions_tuples]\n",
    "\n",
    "lines_legend = [x[1] for x in action_line_pair]\n",
    "\n",
    "np.unique\n",
    "fig, ax = plt.subplots(1, 1, figsize=(10, 4))\n",
    "\n",
    "weeks = np.arange(len(policy))\n",
    "\n",
    "colors = []\n",
    "\n",
    "for i in range(len(policy)):\n",
    "    colors.append(action_to_color[policy[i]])\n",
    "    \n",
    "\n",
    "total_tmp = {\"infected\": total[\"infected\"]}\n",
    "[ax.bar(weeks, y, color=colors) for y in total_tmp.values()]\n",
    "\n",
    "# ax.axhline(y=INFECTED_THRESHOLD, color=\"gray\", linestyle=\"--\")\n",
    "ax.legend(lines_legend, action_legend)\n",
    "ax.set_title(\"Question 4-1: Policy plotted\")\n",
    "ax.set_ylabel(\"Total number of infected\")\n",
    "ax.set_xlabel(\"Weeks\")\n",
    "fig.savefig(visualization_folder / \"4-1_policy.png\")\n"
   ]
  }
 ],
 "metadata": {
  "kernelspec": {
   "display_name": "Python 3",
   "language": "python",
   "name": "python3"
  },
  "language_info": {
   "codemirror_mode": {
    "name": "ipython",
    "version": 3
   },
   "file_extension": ".py",
   "mimetype": "text/x-python",
   "name": "python",
   "nbconvert_exporter": "python",
   "pygments_lexer": "ipython3",
   "version": "3.9.0"
  }
 },
 "nbformat": 4,
 "nbformat_minor": 0
}
