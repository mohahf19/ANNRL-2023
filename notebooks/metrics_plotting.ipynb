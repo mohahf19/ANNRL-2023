{
 "cells": [
  {
   "cell_type": "code",
   "execution_count": 1,
   "metadata": {
    "collapsed": true
   },
   "outputs": [],
   "source": [
    "# Add the parent directory to path\n",
    "import sys\n",
    "\n",
    "sys.path.append(\"..\")"
   ]
  },
  {
   "cell_type": "code",
   "execution_count": 45,
   "metadata": {},
   "outputs": [],
   "source": [
    "import seaborn as sns\n",
    "import matplotlib.pyplot as plt\n",
    "from pathlib import Path\n",
    "import pandas as pd\n",
    "import numpy as np\n",
    "\n",
    "import json"
   ]
  },
  {
   "cell_type": "code",
   "execution_count": 29,
   "metadata": {
    "collapsed": false
   },
   "outputs": [],
   "source": [
    "q3a_folder = Path(\"../results/q3a\")\n",
    "q3b_folder = Path(\"../results/q3b\")\n",
    "q4a_folder = Path(\"../results/q4a\")\n",
    "\n",
    "visualization_folder = Path(\"../results/visualization\")\n",
    "visualization_folder.mkdir(exist_ok=True, parents=True)"
   ]
  },
  {
   "attachments": {},
   "cell_type": "markdown",
   "metadata": {},
   "source": [
    "## Q3a Plots"
   ]
  },
  {
   "cell_type": "code",
   "execution_count": 37,
   "metadata": {
    "collapsed": false
   },
   "outputs": [],
   "source": [
    "def get_flattened_data(run_folder: list[Path]) -> dict[str, np.ndarray]:\n",
    "    files = run_folder.glob(\"*.json\")\n",
    "    run_ids_paths = [(int(str(x).split(\"_\")[2]), x) for x in files]\n",
    "    data = {}\n",
    "    for run_id, run_path in run_ids_paths:\n",
    "        with open(run_path, \"r\") as f:\n",
    "            data[run_id] = json.load(f)\n",
    "            \n",
    "    flattened_data = {}\n",
    "    for run_id, run_data in data.items():\n",
    "        for key, value in run_data.items():\n",
    "            if key in flattened_data:\n",
    "                flattened_data[key].append(value)\n",
    "            else:\n",
    "                flattened_data[key] = [value]\n",
    "\n",
    "\n",
    "    for key, value in flattened_data.items():\n",
    "        flattened_data[key] = np.stack(value)\n",
    "        print(key, flattened_data[key].shape)\n",
    "    \n",
    "    return flattened_data"
   ]
  },
  {
   "cell_type": "code",
   "execution_count": 144,
   "metadata": {
    "collapsed": false
   },
   "outputs": [
    {
     "name": "stdout",
     "output_type": "stream",
     "text": [
      "tr_trace (3, 500)\n",
      "eval_trace_mean (3, 26)\n",
      "eval_trace_std (3, 26)\n",
      "tr_losses (3, 12953)\n",
      "eval_seed_sequences (3, 20)\n",
      "tr_trace (3, 500)\n",
      "eval_trace_mean (3, 26)\n",
      "eval_trace_std (3, 26)\n",
      "tr_losses (3, 12953)\n",
      "eval_seed_sequences (3, 20)\n",
      "tr_trace (3, 600)\n",
      "eval_trace_mean (3, 31)\n",
      "eval_trace_std (3, 31)\n",
      "tr_losses (3, 15953)\n",
      "eval_seed_sequences (3, 20)\n",
      "learning_rates (3, 15953)\n"
     ]
    },
    {
     "data": {
      "text/plain": [
       "<Figure size 640x480 with 0 Axes>"
      ]
     },
     "metadata": {},
     "output_type": "display_data"
    }
   ],
   "source": [
    "def visualize_run_metrics(run_folder: Path, run_title: str):\n",
    "    flattened_data = get_flattened_data(run_folder)\n",
    "    \n",
    "    # Plot the average reward\n",
    "    df = pd.DataFrame(flattened_data[\"eval_trace_mean\"], index = [\"run_1\", \"run_2\", \"run_3\"]).transpose()\n",
    "    df[\"eval_step\"] = np.arange(1, len(df) + 1)\n",
    "    t = df.melt(id_vars=\"eval_step\", value_name=\"eval_reward\")[[\"eval_step\", \"eval_reward\"]]\n",
    "    plt = sns.lineplot(data=t, x=\"eval_step\", y=\"eval_reward\", label=\"Average reward\")\n",
    "    plt.set_title(f\"{run_title}: Average evaluation reward (averaged over 3 runs)\")\n",
    "    plt.set_xlabel(\"Evaluation step\")\n",
    "    plt.set_ylabel(\"Reward\")\n",
    "    plt.hlines(max_val := t[\"eval_reward\"].max(), xmin=0, xmax=t[\"eval_step\"].max(), linestyles=\"dashed\", label=f\"Maximum value ({max_val:.2f})\", color=\"black\", alpha=0.5)\n",
    "    plt.legend(loc=\"lower right\")\n",
    "    plt.figure.savefig(visualization_folder / f\"{run_title}_eval_reward.png\", dpi=300)\n",
    "    plt.figure.clf()\n",
    "    \n",
    "    \n",
    "    # Plot the training rewards\n",
    "    df = pd.DataFrame(flattened_data[\"tr_trace\"], index = [\"run_1\", \"run_2\", \"run_3\"]).transpose()\n",
    "    df[\"tr_step\"] = np.arange(1, len(df) + 1)\n",
    "    t = df.melt(id_vars=\"tr_step\", value_name=\"tr_reward\")[[\"tr_step\", \"tr_reward\"]]\n",
    "    plt = sns.lineplot(data=t, x=\"tr_step\", y=\"tr_reward\", label=\"Training reward\")\n",
    "    plt.set_title(f\"{run_title}: Training reward (averaged over 3 runs)\")\n",
    "    plt.set_xlabel(\"Training step\")\n",
    "    plt.set_ylabel(\"Reward\")\n",
    "    plt.hlines(max_val := t[\"tr_reward\"].max(), xmin=0, xmax=t[\"tr_step\"].max(), linestyles=\"dashed\", label=f\"Maximum value ({max_val:.2f})\", color=\"black\", alpha=0.5)\n",
    "    plt.legend(loc=\"lower right\")\n",
    "    plt.figure.savefig(visualization_folder / f\"{run_title}_tr_reward.png\", dpi=300)\n",
    "    plt.figure.clf()\n",
    "    \n",
    "    # Plot the training losses\n",
    "    df = pd.DataFrame(flattened_data[\"tr_losses\"], index = [\"run_1\", \"run_2\", \"run_3\"]).transpose()\n",
    "    df[\"tr_step\"] = np.arange(1, len(df) + 1)\n",
    "    t = df.melt(id_vars=\"tr_step\", value_name=\"tr_loss\")[[\"tr_loss\", \"tr_step\"]]\n",
    "    plt = sns.lineplot(data=t, x=\"tr_step\", y=\"tr_loss\", label=\"Training loss\")\n",
    "    plt.set_title(f\"{run_title}: Training loss (averaged over 3 runs)\")\n",
    "    plt.set_xlabel(\"Training step\")\n",
    "    plt.set_ylabel(\"Loss\")\n",
    "    plt.legend(loc=\"upper right\")\n",
    "    plt.figure.savefig(visualization_folder / f\"{run_title}_tr_loss.png\", dpi=300)\n",
    "    plt.figure.clf()\n",
    "# Delete the items inside the visualization folder\n",
    "for item in visualization_folder.glob(\"*\"):\n",
    "    item.unlink()\n",
    "    \n",
    "visualize_run_metrics(q3a_folder, \"3-1\")"
   ]
  },
  {
   "cell_type": "code",
   "execution_count": null,
   "metadata": {},
   "outputs": [],
   "source": [
    "visualize_run_metrics(q3b_folder, \"3-2\")"
   ]
  },
  {
   "cell_type": "code",
   "execution_count": null,
   "metadata": {},
   "outputs": [],
   "source": [
    "visualize_run_metrics(q4a_folder, \"4-1\")"
   ]
  }
 ],
 "metadata": {
  "kernelspec": {
   "display_name": "Python 3",
   "language": "python",
   "name": "python3"
  },
  "language_info": {
   "codemirror_mode": {
    "name": "ipython",
    "version": 3
   },
   "file_extension": ".py",
   "mimetype": "text/x-python",
   "name": "python",
   "nbconvert_exporter": "python",
   "pygments_lexer": "ipython3",
   "version": "3.9.0"
  }
 },
 "nbformat": 4,
 "nbformat_minor": 0
}
