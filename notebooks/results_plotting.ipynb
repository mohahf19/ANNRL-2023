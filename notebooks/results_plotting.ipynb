{
 "cells": [
  {
   "cell_type": "code",
   "execution_count": 1,
   "metadata": {
    "collapsed": true
   },
   "outputs": [],
   "source": [
    "# Add the parent directory to path\n",
    "import sys\n",
    "\n",
    "sys.path.append(\"..\")"
   ]
  },
  {
   "cell_type": "code",
   "execution_count": 5,
   "outputs": [],
   "source": [
    "# Read dqn_q3_1_metrics.json json\n",
    "import json\n",
    "with open('../results/q3a/dqn_q3_1_metrics.json') as f:\n",
    "    dqn_q3_1_metrics = json.load(f)"
   ],
   "metadata": {
    "collapsed": false
   }
  },
  {
   "cell_type": "code",
   "execution_count": 6,
   "outputs": [
    {
     "name": "stdout",
     "output_type": "stream",
     "text": [
      "5\n"
     ]
    }
   ],
   "source": [
    "print(len(dqn_q3_1_metrics))"
   ],
   "metadata": {
    "collapsed": false
   }
  },
  {
   "cell_type": "code",
   "execution_count": 9,
   "outputs": [
    {
     "name": "stdout",
     "output_type": "stream",
     "text": [
      "dict_keys(['tr_trace', 'eval_trace_mean', 'eval_trace_std', 'tr_losses', 'eval_seed_sequences'])\n"
     ]
    }
   ],
   "source": [
    "print(dqn_q3_1_metrics.keys())"
   ],
   "metadata": {
    "collapsed": false
   }
  },
  {
   "cell_type": "code",
   "execution_count": 10,
   "outputs": [],
   "source": [
    "# 1. plot the training trace and the eval trace\n",
    "# 2. we ask you to\n",
    "# average the eval trace across three full training processes (for the training trace, you can just\n",
    "# scatter-polt the three trainings together)\n",
    "# 3. Record three example episodes where actions are picked by the best policy π\n",
    "# ∗\n",
    "# DQN you obtain. Plot one\n",
    "# of those episodes, using the same plotting procedure as in question 2.a) and interpret the policy"
   ],
   "metadata": {
    "collapsed": false
   }
  },
  {
   "cell_type": "code",
   "execution_count": null,
   "outputs": [],
   "source": [],
   "metadata": {
    "collapsed": false
   }
  }
 ],
 "metadata": {
  "kernelspec": {
   "display_name": "Python 3",
   "language": "python",
   "name": "python3"
  },
  "language_info": {
   "codemirror_mode": {
    "name": "ipython",
    "version": 2
   },
   "file_extension": ".py",
   "mimetype": "text/x-python",
   "name": "python",
   "nbconvert_exporter": "python",
   "pygments_lexer": "ipython2",
   "version": "2.7.6"
  }
 },
 "nbformat": 4,
 "nbformat_minor": 0
}
