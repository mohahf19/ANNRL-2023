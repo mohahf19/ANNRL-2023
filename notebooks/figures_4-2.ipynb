{
 "cells": [
  {
   "cell_type": "code",
   "execution_count": 1,
   "metadata": {
    "collapsed": true
   },
   "outputs": [],
   "source": [
    "# Add the parent directory to path\n",
    "import sys\n",
    "\n",
    "sys.path.append(\"..\")"
   ]
  },
  {
   "cell_type": "code",
   "execution_count": 2,
   "metadata": {},
   "outputs": [],
   "source": [
    "import matplotlib.pyplot as plt\n",
    "from gym import spaces\n",
    "\n",
    "\"\"\"Environment imports\"\"\"\n",
    "from epidemic_env.env import Env, Log\n",
    "from epidemic_env.dynamics import ModelDynamics, Observation\n",
    "from epidemic_env.visualize import Visualize\n",
    "from epidemic_env.agent import Agent\n",
    "\n",
    "\"\"\"Pytorch and numpy imports\"\"\"\n",
    "import numpy as np\n",
    "import torch\n",
    "from torch import nn\n",
    "\n",
    "\"\"\"Policy imports\"\"\"\n",
    "from typing import Callable\n",
    "from utils.utils import simulate_policy\n",
    "\n",
    "%matplotlib inline"
   ]
  },
  {
   "cell_type": "code",
   "execution_count": 3,
   "metadata": {},
   "outputs": [],
   "source": [
    "import seaborn as sns\n",
    "import matplotlib.pyplot as plt\n",
    "from pathlib import Path\n",
    "import pandas as pd\n",
    "import numpy as np\n",
    "\n",
    "import json"
   ]
  },
  {
   "cell_type": "code",
   "execution_count": 13,
   "metadata": {
    "collapsed": false
   },
   "outputs": [],
   "source": [
    "q4b_folder = Path(\"../results/q4b\")\n",
    "\n",
    "visualization_folder = Path(\"../results/visualization\")\n",
    "visualization_folder.mkdir(exist_ok=True, parents=True)"
   ]
  },
  {
   "cell_type": "code",
   "execution_count": 14,
   "metadata": {},
   "outputs": [],
   "source": [
    "class DQNModel(nn.Module):\n",
    "    def __init__(self, obs_dim: int, actions_dim: int, activation: str = \"relu\"):\n",
    "        super().__init__()\n",
    "        if activation == \"relu\":\n",
    "            self.activation = nn.ReLU\n",
    "        elif activation == \"tanh\":\n",
    "            self.activation = nn.Tanh\n",
    "        else:\n",
    "            raise ValueError(\"Activation must be either relu or tanh\")\n",
    "\n",
    "        self.net = nn.Sequential(\n",
    "            # nn.LayerNorm(obs_dim),\n",
    "            nn.Linear(obs_dim, 64),\n",
    "            self.activation(),\n",
    "            nn.Linear(64, 32),\n",
    "            self.activation(),\n",
    "            nn.Linear(32, 16),\n",
    "            self.activation(),\n",
    "            nn.Linear(16, actions_dim),\n",
    "        )\n",
    "\n",
    "    def forward(self, x: torch.Tensor) -> torch.Tensor:\n",
    "        return self.net(x)"
   ]
  },
  {
   "cell_type": "code",
   "execution_count": 15,
   "metadata": {},
   "outputs": [],
   "source": [
    "def get_models(num_obs: int, num_output: int, run_folder: Path) -> dict[int, torch.nn.Module]:\n",
    "    files = run_folder.glob(\"*.pt\")\n",
    "    run_ids_paths = [(int(str(x).split(\"_\")[2]), x) for x in files]\n",
    "\n",
    "    models = {}\n",
    "            \n",
    "    for run_id, weights_path in run_ids_paths:\n",
    "        model = DQNModel(num_obs, num_output)\n",
    "        model.load_state_dict(torch.load(weights_path, map_location=torch.device('cpu')))\n",
    "        model.eval()\n",
    "        models[run_id] = model\n",
    "    \n",
    "    return models"
   ]
  },
  {
   "attachments": {},
   "cell_type": "markdown",
   "metadata": {},
   "source": [
    "## Q4b Plots"
   ]
  },
  {
   "cell_type": "code",
   "execution_count": 16,
   "metadata": {},
   "outputs": [
    {
     "data": {
      "text/plain": [
       "{'confinement': False, 'isolation': True, 'hospital': True, 'vaccinate': True}"
      ]
     },
     "execution_count": 16,
     "metadata": {},
     "output_type": "execute_result"
    }
   ],
   "source": [
    "num_features_per_city = 2\n",
    "num_actions = 8\n",
    "num_observation_features = 7 * num_features_per_city * 9 \n",
    "\n",
    "\n",
    "def observation_to_tensor(\n",
    "    obs: Observation,\n",
    "    dyn: ModelDynamics,\n",
    "    features_per_city: int = 7 * num_features_per_city,\n",
    ") -> torch.Tensor:\n",
    "    \"\"\"Convers the observation object to a torch Tensor\n",
    "    The tensor is defined as: for each city, population (1), infected (7), dead (7)\n",
    "    \"\"\"\n",
    "    num_cities = len(dyn.cities)\n",
    "    output = torch.zeros(num_cities * features_per_city)\n",
    "    for i, city in enumerate(dyn.cities):\n",
    "        output[i * features_per_city : i * features_per_city + 7] = (\n",
    "            torch.tensor(obs.city[city].infected) / obs.pop[city]\n",
    "        ) ** (1 / 4)\n",
    "        output[i * features_per_city + 7 : i * features_per_city + 14] = (\n",
    "            torch.tensor(obs.city[city].dead) / obs.pop[city]\n",
    "        ) ** (1 / 4)\n",
    "\n",
    "    return output\n",
    "\n",
    "\n",
    "\"\"\"Loading the environment\"\"\"\n",
    "dyn = ModelDynamics(\"../config/switzerland.yaml\") \n",
    "\n",
    "env = Env(\n",
    "    dyn,  # We pass the dynamical model to the environment\n",
    "    action_space=spaces.Discrete(\n",
    "        num_actions\n",
    "    ),  # Here one could pass an openai gym action space that can then be sampled\n",
    "    observation_space=spaces.Box(\n",
    "        low=0, high=np.inf, shape=(num_observation_features,), dtype=float\n",
    "    ),  # Here one could pass an openai gym obs space that can then be sampled\n",
    ")\n",
    "\n",
    "action_value_dict = {0: \"confinement\", 1: \"isolation\", 2: \"hospital\", 3: \"vaccinate\"}\n",
    "\n",
    "\n",
    "def create_action(\n",
    "    actions: np.ndarray, # a 4-length array of 1/0, True means take the action, False means do nothing\n",
    "    action_value_dict: dict = action_value_dict,\n",
    ") -> dict[str, bool]:\n",
    "    \"\"\"Creates a policy from the encoded action value\"\"\"\n",
    "    action_inds = torch.where(actions)[0]\n",
    "    action = {key: False for key in action_value_dict.values()}\n",
    "    for ind in action_inds:\n",
    "        action[action_value_dict[ind.item()]] = True\n",
    "    return action\n",
    "\n",
    "\n",
    "def select_action(output: torch.Tensor, epsilon: float, device: str = \"cpu\") -> int:\n",
    "    \"\"\"Selects an action based on the output of the DQN.\"\"\"\n",
    "    if np.random.rand() < epsilon:\n",
    "        return torch.tensor(np.random.randint(0, 2, size=(4,))).to(device)\n",
    "    else:\n",
    "        t = output.reshape(-1, 2)\n",
    "        return torch.argmax(t, dim=1).to(device)\n",
    "\n",
    "t = torch.tensor(np.array([0, 1, 1, 1]))\n",
    "create_action(t)\n"
   ]
  },
  {
   "cell_type": "code",
   "execution_count": 17,
   "metadata": {},
   "outputs": [
    {
     "name": "stdout",
     "output_type": "stream",
     "text": [
      "tensor([ 117, -166,  -81,  -61,   74,  -95,   87,   20])\n",
      "tensor([[ 117, -166],\n",
      "        [ -81,  -61],\n",
      "        [  74,  -95],\n",
      "        [  87,   20]])\n",
      "epsilon 0: tensor([0, 1, 0, 0]) {'confinement': False, 'isolation': True, 'hospital': False, 'vaccinate': False}\n",
      "epsilon 1: tensor([0, 1, 1, 0]) {'confinement': False, 'isolation': True, 'hospital': True, 'vaccinate': False}\n",
      "epsilon 1: tensor([1, 0, 1, 0]) {'confinement': True, 'isolation': False, 'hospital': True, 'vaccinate': False}\n"
     ]
    }
   ],
   "source": [
    "t = torch.tensor((np.random.randn(num_actions) * 100).astype(int))\n",
    "print(t)\n",
    "print(t.reshape(-1, 2))\n",
    "\n",
    "\n",
    "print(\"epsilon 0:\", select_action(t, 0), create_action(select_action(t, 0)))\n",
    "print(\"epsilon 1:\", a:=select_action(t, 1), create_action(a))\n",
    "print(\"epsilon 1:\", a:=select_action(t, 1), create_action(a))"
   ]
  },
  {
   "cell_type": "code",
   "execution_count": 19,
   "metadata": {},
   "outputs": [],
   "source": [
    "q4b_models = get_models(num_observation_features, num_actions, q4b_folder)\n",
    "q4b_model = q4b_models[3]\n"
   ]
  },
  {
   "cell_type": "code",
   "execution_count": 20,
   "metadata": {},
   "outputs": [],
   "source": [
    "def exec_model_policy(env: Env, dyn: ModelDynamics, policy_net: torch.nn.Module, device: str, n_weeks=30, simulation_seed=0, ):\n",
    "    log = []\n",
    "    curr_rewards = []\n",
    "    taken_actions = []\n",
    "\n",
    "    obs, info = env.reset(simulation_seed)\n",
    "    obs_tensor = observation_to_tensor(obs, dyn).to(device)\n",
    "    \n",
    "    done = False\n",
    "    while not done:\n",
    "        policy_output = policy_net(obs_tensor)\n",
    "        action = select_action(policy_output, 0)\n",
    "        curr_action = create_action(action)\n",
    "        action_tuple = tuple([action for action, value in curr_action.items() if value])\n",
    "        taken_actions.append(action_tuple)\n",
    "        \n",
    "        obs, reward, done, info = env.step(curr_action)\n",
    "        obs_tensor = observation_to_tensor(obs, dyn).to(device)\n",
    "        curr_rewards.append(reward.item())\n",
    "        log.append(info) \n",
    "        \n",
    "    \"\"\" Parse the logs \"\"\"\n",
    "    tot = {p: np.array([getattr(l.total, p) for l in log]) for p in dyn.parameters}\n",
    "    cit = {\n",
    "        c: {p: np.array([getattr(l.city[c], p) for l in log]) for p in dyn.parameters}\n",
    "        for c in dyn.cities\n",
    "    }\n",
    "    act = {a: np.array([l.action[a] for l in log]) for a in log[0].action.keys()}\n",
    "\n",
    "    return tot, cit, act, taken_actions, curr_rewards\n"
   ]
  },
  {
   "cell_type": "code",
   "execution_count": 21,
   "metadata": {},
   "outputs": [],
   "source": [
    "def simulate_policy(env: Env, dyn: ModelDynamics, policy_net: torch.nn.Module, device: str, policy_function, n=5, seeds=[0]):\n",
    "    # For each episode save the total days confined and total dead\n",
    "    tot_days_confined = []\n",
    "    tot_days_isolated = []\n",
    "    tot_days_vaccinated = []\n",
    "    tot_days_hospitalized = []\n",
    "    tot_dead = []\n",
    "    cum_rewards = []\n",
    "    for i in range(n):\n",
    "        tot, _, _, pol, r = policy_function(env=env, dyn=dyn, policy_net=policy_net, device=device, n_weeks=30, simulation_seed=seeds[i])\n",
    "        cum_rewards.append(torch.sum(torch.tensor(r)))\n",
    "        tot_dead.append(tot['dead'][-1])\n",
    "        weeks_confined = len([x for x in pol if \"confinement\" in x])\n",
    "        weeks_isolated = len([x for x in pol if \"isolation\" in x])\n",
    "        weeks_vaccinated = len([x for x in pol if \"vaccinate\" in x])\n",
    "        weeks_hospitalized = len([x for x in pol if \"hospital\" in x])\n",
    "        \n",
    "        tot_days_confined.append(7 * weeks_confined)\n",
    "        tot_days_isolated.append(7 * weeks_isolated)\n",
    "        tot_days_vaccinated.append(7 * weeks_vaccinated)\n",
    "        tot_days_hospitalized.append(7 * weeks_hospitalized)\n",
    "    \n",
    "    tot_days = {\"confinement\": tot_days_confined, \"isolation\": tot_days_isolated, \"vaccinate\": tot_days_vaccinated, \"hospital\": tot_days_hospitalized}\n",
    "        \n",
    "    return tot_days, tot_dead, cum_rewards"
   ]
  },
  {
   "cell_type": "code",
   "execution_count": 22,
   "metadata": {},
   "outputs": [],
   "source": [
    "tot_days, total_dead, cumulative_rewards = simulate_policy(env=env, dyn=dyn, policy_net=q4b_model, device=\"cpu\", policy_function = exec_model_policy, n=50, seeds=np.arange(50)\n",
    ")"
   ]
  },
  {
   "cell_type": "code",
   "execution_count": 23,
   "metadata": {},
   "outputs": [
    {
     "name": "stdout",
     "output_type": "stream",
     "text": [
      "dict_keys(['confinement', 'isolation', 'vaccinate', 'hospital'])\n"
     ]
    }
   ],
   "source": [
    "print(tot_days.keys())"
   ]
  },
  {
   "cell_type": "code",
   "execution_count": 24,
   "metadata": {},
   "outputs": [
    {
     "name": "stdout",
     "output_type": "stream",
     "text": [
      "Mean total days confinement: 145.6\n",
      "Std total days confinement: 13.501111065390136\n",
      "Mean total days isolation: 0.7\n",
      "Std total days isolation: 2.8861739379323623\n",
      "Mean total days vaccinate: 0.42\n",
      "Std total days vaccinate: 2.1733844574764034\n",
      "Mean total days hospital: 31.22\n",
      "Std total days hospital: 16.577442504801514\n",
      "Mean total dead: 10121.92\n",
      "Std total dead: 10726.539678461084\n",
      "Mean cumulative rewards: 26.89374542236328\n",
      "Std cumulative rewards: 28.015642166137695\n"
     ]
    }
   ],
   "source": [
    "# Print the mean and std\n",
    "for key, total_days_action in tot_days.items():\n",
    "    print(f\"Mean total days {key}: {np.mean(total_days_action)}\")\n",
    "    print(f\"Std total days {key}: {np.std(total_days_action)}\")\n",
    "print(f\"Mean total dead: {np.mean(total_dead)}\")\n",
    "print(f\"Std total dead: {np.std(total_dead)}\")\n",
    "print(f\"Mean cumulative rewards: {np.mean(cumulative_rewards)}\")\n",
    "print(f\"Std cumulative rewards: {np.std(cumulative_rewards)}\")\n"
   ]
  },
  {
   "cell_type": "code",
   "execution_count": 25,
   "metadata": {},
   "outputs": [
    {
     "data": {
      "image/png": "[encoded data removed]",
      "text/plain": [
       "<Figure size 1000x400 with 3 Axes>"
      ]
     },
     "metadata": {},
     "output_type": "display_data"
    }
   ],
   "source": [
    "fig, ax = plt.subplots(1, 3, figsize=(10, 4))\n",
    "\n",
    "ax[0].hist(tot_days[\"confinement\"], bins=30, label=\"total_confined\")\n",
    "ax[0].set_xlabel(\"Total days confined\")\n",
    "\n",
    "ax[1].hist(total_dead, bins=30, label=\"total_dead\")\n",
    "ax[1].set_xlabel(\"Total dead\")\n",
    "\n",
    "ax[2].hist(cumulative_rewards, bins=30, label=\"cumulative_rewards\")\n",
    "ax[2].set_xlabel(\"Cumulative rewards\")\n",
    "\n",
    "plt.savefig(visualization_folder / \"4-2_histograms.png\")"
   ]
  },
  {
   "cell_type": "code",
   "execution_count": 26,
   "metadata": {},
   "outputs": [],
   "source": [
    "seed = 101\n",
    "total, cities, actions, policy, _ = exec_model_policy(env=env, dyn=dyn, policy_net=q4b_model, device=\"cpu\", n_weeks=30, simulation_seed=seed)"
   ]
  },
  {
   "cell_type": "code",
   "execution_count": 32,
   "metadata": {},
   "outputs": [],
   "source": [
    "unique_actions = set(policy)\n",
    "num_unique_actions = len(unique_actions)\n",
    "# Assign a color to each action\n",
    "\n",
    "action_to_color_id = {action: i for i, action in enumerate(unique_actions)}\n",
    "action_to_color = {action: sns.color_palette()[i] for i, action in enumerate(unique_actions)}\n",
    "\n",
    "import pickle \n",
    "with open(visualization_folder / \"action_to_color.pkl\", \"wb\") as f:\n",
    "    pickle.dump(action_to_color, f)\n"
   ]
  },
  {
   "cell_type": "code",
   "execution_count": 31,
   "metadata": {},
   "outputs": [
    {
     "data": {
      "image/png": "[encoded data removed]",
      "text/plain": [
       "<Figure size 1000x400 with 1 Axes>"
      ]
     },
     "metadata": {},
     "output_type": "display_data"
    }
   ],
   "source": [
    "from matplotlib.lines import Line2D\n",
    "\n",
    "def action_tuple_to_label(action_tuple: tuple[str, ...]) -> str:\n",
    "    \"\"\"Converts an action tuple to a label\"\"\"\n",
    "    if len(action_tuple) == 0:\n",
    "        return \"No action\"\n",
    "    else:\n",
    "        out = \"\"\n",
    "        for t in action_tuple:\n",
    "            out = out + t.capitalize() + \", \"\n",
    "        return out[:-2]\n",
    "\n",
    "action_line_pair = [\n",
    "    (action, Line2D([0], [0], color=color, lw=4)) for\n",
    "    action, color in action_to_color.items()\n",
    "]\n",
    "\n",
    "actions_tuples= [x[0] for x in action_line_pair]\n",
    "\n",
    "action_legend = [action_tuple_to_label(x) for x in actions_tuples]\n",
    "\n",
    "lines_legend = [x[1] for x in action_line_pair]\n",
    "\n",
    "np.unique\n",
    "fig, ax = plt.subplots(1, 1, figsize=(10, 4))\n",
    "\n",
    "weeks = np.arange(len(policy))\n",
    "\n",
    "colors = []\n",
    "\n",
    "for i in range(len(policy)):\n",
    "    colors.append(action_to_color[policy[i]])\n",
    "    \n",
    "\n",
    "total_tmp = {\"infected\": total[\"infected\"]}\n",
    "[ax.bar(weeks, y, color=colors) for y in total_tmp.values()]\n",
    "\n",
    "# ax.axhline(y=INFECTED_THRESHOLD, color=\"gray\", linestyle=\"--\")\n",
    "ax.legend(lines_legend, action_legend)\n",
    "ax.set_title(\"Question 4-1: Policy plotted\")\n",
    "ax.set_ylabel(\"Total number of infected\")\n",
    "ax.set_xlabel(\"Weeks\")\n",
    "fig.savefig(visualization_folder / \"4-2_policy.png\")\n"
   ]
  },
  {
   "cell_type": "code",
   "execution_count": null,
   "metadata": {},
   "outputs": [],
   "source": []
  }
 ],
 "metadata": {
  "kernelspec": {
   "display_name": "Python 3",
   "language": "python",
   "name": "python3"
  },
  "language_info": {
   "codemirror_mode": {
    "name": "ipython",
    "version": 3
   },
   "file_extension": ".py",
   "mimetype": "text/x-python",
   "name": "python",
   "nbconvert_exporter": "python",
   "pygments_lexer": "ipython3",
   "version": "3.9.0"
  }
 },
 "nbformat": 4,
 "nbformat_minor": 0
}
